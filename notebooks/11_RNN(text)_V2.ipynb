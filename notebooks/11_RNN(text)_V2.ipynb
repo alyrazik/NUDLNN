{
 "cells": [
  {
   "cell_type": "code",
   "execution_count": 1,
   "metadata": {},
   "outputs": [],
   "source": [
    "using Flux\n",
    "using Flux: onehot, chunk, batchseq, throttle, crossentropy\n",
    "using StatsBase: wsample\n",
    "using Base.Iterators: partition\n"
   ]
  },
  {
   "cell_type": "markdown",
   "metadata": {},
   "source": [
    "### Examples"
   ]
  },
  {
   "cell_type": "code",
   "execution_count": 147,
   "metadata": {},
   "outputs": [
    {
     "data": {
      "text/plain": [
       "3-element Flux.OneHotVector:\n",
       " false\n",
       "  true\n",
       " false"
      ]
     },
     "execution_count": 147,
     "metadata": {},
     "output_type": "execute_result"
    }
   ],
   "source": [
    "onehot('a',['y','a','i'])"
   ]
  },
  {
   "cell_type": "code",
   "execution_count": 148,
   "metadata": {},
   "outputs": [
    {
     "data": {
      "text/plain": [
       "3-element Array{Array{Int64,1},1}:\n",
       " [1, 2]\n",
       " [3, 4]\n",
       " [5, 6]"
      ]
     },
     "execution_count": 148,
     "metadata": {},
     "output_type": "execute_result"
    }
   ],
   "source": [
    "x= chunk([1,2,3,4,5,6],3)"
   ]
  },
  {
   "cell_type": "code",
   "execution_count": 149,
   "metadata": {},
   "outputs": [
    {
     "data": {
      "text/plain": [
       "2-element Array{Array{Int64,1},1}:\n",
       " [1, 3, 5]\n",
       " [2, 4, 6]"
      ]
     },
     "execution_count": 149,
     "metadata": {},
     "output_type": "execute_result"
    }
   ],
   "source": [
    "batchseq(x)"
   ]
  },
  {
   "cell_type": "code",
   "execution_count": 150,
   "metadata": {},
   "outputs": [
    {
     "data": {
      "text/plain": [
       "3-element Array{Array{Int64,1},1}:\n",
       " [1, 2, 3, 4]\n",
       " [5, 6, 7, 8]\n",
       " [9, 10]     "
      ]
     },
     "execution_count": 150,
     "metadata": {},
     "output_type": "execute_result"
    }
   ],
   "source": [
    "x= chunk([1,2,3,4,5,6,7,8,9,10],3)"
   ]
  },
  {
   "cell_type": "code",
   "execution_count": 151,
   "metadata": {},
   "outputs": [
    {
     "data": {
      "text/plain": [
       "4-element Array{Array{T,1} where T,1}:\n",
       " [1, 5, 9]                           \n",
       " [2, 6, 10]                          \n",
       " Union{Nothing, Int64}[3, 7, nothing]\n",
       " Union{Nothing, Int64}[4, 8, nothing]"
      ]
     },
     "execution_count": 151,
     "metadata": {},
     "output_type": "execute_result"
    }
   ],
   "source": [
    "batchseq(x)"
   ]
  },
  {
   "cell_type": "code",
   "execution_count": 152,
   "metadata": {},
   "outputs": [
    {
     "data": {
      "text/plain": [
       "4-element Array{Array{Int64,1},1}:\n",
       " [1, 5, 9]  \n",
       " [2, 6, 10] \n",
       " [3, 7, 100]\n",
       " [4, 8, 100]"
      ]
     },
     "execution_count": 152,
     "metadata": {},
     "output_type": "execute_result"
    }
   ],
   "source": [
    "batchseq(x,100)"
   ]
  },
  {
   "cell_type": "code",
   "execution_count": 222,
   "metadata": {
    "scrolled": true
   },
   "outputs": [
    {
     "data": {
      "text/plain": [
       "\"k\""
      ]
     },
     "execution_count": 222,
     "metadata": {},
     "output_type": "execute_result"
    }
   ],
   "source": [
    "u=IOBuffer()\n",
    "t=wsample(['a','k','l'],[0.2,0.8,0.05])\n",
    "write(u,t)\n",
    "String(take!(u))"
   ]
  },
  {
   "cell_type": "markdown",
   "metadata": {},
   "source": [
    "###########################################################################################"
   ]
  },
  {
   "cell_type": "code",
   "execution_count": 3,
   "metadata": {},
   "outputs": [],
   "source": [
    "cd(@__DIR__)\n",
    "\n",
    "isfile(\"input.txt\") ||\n",
    "  download(\"https://cs.stanford.edu/people/karpathy/char-rnn/shakespeare_input.txt\",\n",
    "           \"input.txt\")\n",
    "\n",
    "text = collect(String(read(\"input.txt\")));\n",
    "alphabet = [unique(text)..., '_'];\n",
    "text = map(ch -> onehot(ch, alphabet), text) # array of 4M and each one is 68 length\n",
    "stop = onehot('_', alphabet); # array of 68 length"
   ]
  },
  {
   "cell_type": "code",
   "execution_count": 3,
   "metadata": {},
   "outputs": [
    {
     "name": "stdout",
     "output_type": "stream",
     "text": [
      "size(o) = (50,)\n",
      "size(o[1]) = (91467,)\n",
      "size(o[end]) = (91455,)\n",
      "size((o[1])[1]) = (68,)\n"
     ]
    },
    {
     "data": {
      "text/plain": [
       "(68,)"
      ]
     },
     "execution_count": 3,
     "metadata": {},
     "output_type": "execute_result"
    }
   ],
   "source": [
    "o=chunk(text, 50); # Array of 50  .. each one is 91,467 .. each one is 68 length  \n",
    "@show size(o)\n",
    "@show size(o[1])\n",
    "@show size(o[end])\n",
    "@show size(o[1][1])\n"
   ]
  },
  {
   "cell_type": "code",
   "execution_count": 4,
   "metadata": {},
   "outputs": [
    {
     "name": "stdout",
     "output_type": "stream",
     "text": [
      "size(b) = (91467,)\n",
      "size(b[1]) = (68, 50)\n",
      "size(b[end]) = (68, 50)\n"
     ]
    },
    {
     "data": {
      "text/plain": [
       "(68, 50)"
      ]
     },
     "execution_count": 4,
     "metadata": {},
     "output_type": "execute_result"
    }
   ],
   "source": [
    "b=batchseq( chunk(text, 50),stop)\n",
    "@show size(b)\n",
    "@show size(b[1])\n",
    "@show size(b[end])"
   ]
  },
  {
   "cell_type": "code",
   "execution_count": 5,
   "metadata": {},
   "outputs": [],
   "source": [
    "d= collect(partition(b,50)); # 91467/50 -> 1830 "
   ]
  },
  {
   "cell_type": "markdown",
   "metadata": {},
   "source": [
    "################################################################################################################"
   ]
  },
  {
   "cell_type": "code",
   "execution_count": 133,
   "metadata": {},
   "outputs": [],
   "source": [
    "N = length(alphabet)\n",
    "seqlen = 50\n",
    "nbatch = 40\n",
    "\n",
    "Xs = collect( partition( batchseq( chunk(text, nbatch), stop), seqlen));\n",
    "Ys = collect(partition(batchseq(chunk(text[2:end], nbatch), stop), seqlen));\n",
    "\n"
   ]
  },
  {
   "cell_type": "code",
   "execution_count": 147,
   "metadata": {},
   "outputs": [
    {
     "data": {
      "text/plain": [
       "0"
      ]
     },
     "execution_count": 147,
     "metadata": {},
     "output_type": "execute_result"
    }
   ],
   "source": [
    "global counter_ip=0"
   ]
  },
  {
   "cell_type": "code",
   "execution_count": 148,
   "metadata": {},
   "outputs": [
    {
     "data": {
      "text/plain": [
       "ff (generic function with 1 method)"
      ]
     },
     "execution_count": 148,
     "metadata": {},
     "output_type": "execute_result"
    }
   ],
   "source": [
    "function ff(ii)\n",
    "    println( counter_ip , \" \", size(ii))\n",
    "    global counter_ip+=1\n",
    "    return ii\n",
    "end"
   ]
  },
  {
   "cell_type": "code",
   "execution_count": 149,
   "metadata": {},
   "outputs": [],
   "source": [
    "global counter=0\n",
    "m = Chain(\n",
    "  x-> ff(x) , \n",
    "  LSTM(N, 128),\n",
    "  LSTM(128, 128),\n",
    "  Dense(128, N),\n",
    "  softmax)\n",
    "\n",
    "m = gpu(m)\n",
    "\n",
    "function loss(xs, ys)\n",
    "  global counter+=1\n",
    "  ws= Tracker.data(params(m)[2])\n",
    "  println(counter,\" \" , ws[1:2,1:3])\n",
    "  l= sum(crossentropy.(m.(gpu.(xs)), gpu.(ys)))\n",
    "  return l\n",
    "end\n",
    "\n",
    "opt = ADAM(params(m), 0.01);\n",
    "tx, ty = (gpu.(Xs[5]), gpu.(Ys[5]));\n"
   ]
  },
  {
   "cell_type": "code",
   "execution_count": 150,
   "metadata": {
    "scrolled": false
   },
   "outputs": [
    {
     "name": "stdout",
     "output_type": "stream",
     "text": [
      "1 [-0.090128 -0.0257904 -0.0919167; 0.0725545 0.0122108 0.0210503]\n",
      "0 (68, 40)\n",
      "1 (68, 40)\n",
      "2 (68, 40)\n",
      "3 (68, 40)\n",
      "4 (68, 40)\n",
      "5 (68, 40)\n",
      "6 (68, 40)\n",
      "7 (68, 40)\n",
      "8 (68, 40)\n",
      "9 (68, 40)\n",
      "10 (68, 40)\n",
      "11 (68, 40)\n",
      "12 (68, 40)\n",
      "13 (68, 40)\n",
      "14 (68, 40)\n",
      "15 (68, 40)\n",
      "16 (68, 40)\n",
      "17 (68, 40)\n",
      "18 (68, 40)\n",
      "19 (68, 40)\n",
      "20 (68, 40)\n",
      "21 (68, 40)\n",
      "22 (68, 40)\n",
      "23 (68, 40)\n",
      "24 (68, 40)\n",
      "25 (68, 40)\n",
      "26 (68, 40)\n",
      "27 (68, 40)\n",
      "28 (68, 40)\n",
      "29 (68, 40)\n",
      "30 (68, 40)\n",
      "31 (68, 40)\n",
      "32 (68, 40)\n",
      "33 (68, 40)\n",
      "34 (68, 40)\n",
      "35 (68, 40)\n",
      "36 (68, 40)\n",
      "37 (68, 40)\n",
      "38 (68, 40)\n",
      "39 (68, 40)\n",
      "40 (68, 40)\n",
      "41 (68, 40)\n",
      "42 (68, 40)\n",
      "43 (68, 40)\n",
      "44 (68, 40)\n",
      "45 (68, 40)\n",
      "46 (68, 40)\n",
      "47 (68, 40)\n",
      "48 (68, 40)\n",
      "49 (68, 40)\n",
      "2 [-0.0944669 -0.0245902 -0.0895075; 0.0725689 0.0171154 0.0239312]\n",
      "50 (68, 40)\n",
      "51 (68, 40)\n",
      "52 (68, 40)\n",
      "53 (68, 40)\n",
      "54 (68, 40)\n",
      "55 (68, 40)\n",
      "56 (68, 40)\n",
      "57 (68, 40)\n",
      "58 (68, 40)\n",
      "59 (68, 40)\n",
      "60 (68, 40)\n",
      "61 (68, 40)\n",
      "62 (68, 40)\n",
      "63 (68, 40)\n",
      "64 (68, 40)\n",
      "65 (68, 40)\n",
      "66 (68, 40)\n",
      "67 (68, 40)\n",
      "68 (68, 40)\n",
      "69 (68, 40)\n",
      "70 (68, 40)\n",
      "71 (68, 40)\n",
      "72 (68, 40)\n",
      "73 (68, 40)\n",
      "74 (68, 40)\n",
      "75 (68, 40)\n",
      "76 (68, 40)\n",
      "77 (68, 40)\n",
      "78 (68, 40)\n",
      "79 (68, 40)\n",
      "80 (68, 40)\n",
      "81 (68, 40)\n",
      "82 (68, 40)\n",
      "83 (68, 40)\n",
      "84 (68, 40)\n",
      "85 (68, 40)\n",
      "86 (68, 40)\n",
      "87 (68, 40)\n",
      "88 (68, 40)\n",
      "89 (68, 40)\n",
      "90 (68, 40)\n",
      "91 (68, 40)\n",
      "92 (68, 40)\n",
      "93 (68, 40)\n",
      "94 (68, 40)\n",
      "95 (68, 40)\n",
      "96 (68, 40)\n",
      "97 (68, 40)\n",
      "98 (68, 40)\n",
      "99 (68, 40)\n",
      "3 [-0.0978535 -0.0223155 -0.0916681; 0.0717141 0.0199935 0.0257381]\n",
      "100 (68, 40)\n",
      "101 (68, 40)\n",
      "102 (68, 40)\n",
      "103 (68, 40)\n",
      "104 (68, 40)\n",
      "105 (68, 40)\n",
      "106 (68, 40)\n",
      "107 (68, 40)\n",
      "108 (68, 40)\n",
      "109 (68, 40)\n",
      "110 (68, 40)\n",
      "111 (68, 40)\n",
      "112 (68, 40)\n",
      "113 (68, 40)\n",
      "114 (68, 40)\n",
      "115 (68, 40)\n",
      "116 (68, 40)\n",
      "117 (68, 40)\n",
      "118 (68, 40)\n",
      "119 (68, 40)\n",
      "120 (68, 40)\n",
      "121 (68, 40)\n",
      "122 (68, 40)\n",
      "123 (68, 40)\n",
      "124 (68, 40)\n",
      "125 (68, 40)\n",
      "126 (68, 40)\n",
      "127 (68, 40)\n",
      "128 (68, 40)\n",
      "129 (68, 40)\n",
      "130 (68, 40)\n",
      "131 (68, 40)\n",
      "132 (68, 40)\n",
      "133 (68, 40)\n",
      "134 (68, 40)\n",
      "135 (68, 40)\n",
      "136 (68, 40)\n",
      "137 (68, 40)\n",
      "138 (68, 40)\n",
      "139 (68, 40)\n",
      "140 (68, 40)\n",
      "141 (68, 40)\n",
      "142 (68, 40)\n",
      "143 (68, 40)\n",
      "144 (68, 40)\n",
      "145 (68, 40)\n",
      "146 (68, 40)\n",
      "147 (68, 40)\n",
      "148 (68, 40)\n",
      "149 (68, 40)\n"
     ]
    },
    {
     "ename": "InterruptException",
     "evalue": "InterruptException:",
     "output_type": "error",
     "traceback": [
      "InterruptException:",
      "",
      "Stacktrace:",
      " [1] #train!#121(::getfield(Flux.Optimise, Symbol(\"##123#127\")), ::Function, ::Function, ::Base.Iterators.Zip2{Array{Array{Flux.OneHotMatrix{Array{Flux.OneHotVector,1}},1},1},Array{Array{Flux.OneHotMatrix{Array{Flux.OneHotVector,1}},1},1}}, ::getfield(Flux.Optimise, Symbol(\"##43#47\"))) at /home/aliaa/.julia/packages/Juno/46C8i/src/progress.jl:113",
      " [2] train!(::Function, ::Base.Iterators.Zip2{Array{Array{Flux.OneHotMatrix{Array{Flux.OneHotVector,1}},1},1},Array{Array{Flux.OneHotMatrix{Array{Flux.OneHotVector,1}},1},1}}, ::Function) at /home/aliaa/.julia/packages/Flux/rcN9D/src/optimise/train.jl:56",
      " [3] top-level scope at In[150]:1"
     ]
    }
   ],
   "source": [
    "Flux.train!(loss, zip(Xs, Ys), opt)"
   ]
  },
  {
   "cell_type": "code",
   "execution_count": 110,
   "metadata": {},
   "outputs": [],
   "source": [
    "# # Sampling\n",
    "# m = cpu(m)\n",
    "\n",
    "# function sample(m, alphabet, len; temp = 1)\n",
    "#   Flux.reset!(m)\n",
    "#   buf = IOBuffer()\n",
    "#   c = rand(alphabet)\n",
    "#   for i = 1:len\n",
    "#     write(buf, c)\n",
    "#     c = wsample(alphabet, m(onehot(c, alphabet)).data)\n",
    "#   end\n",
    "#   return String(take!(buf))\n",
    "# end\n",
    "\n",
    "# sample(m, alphabet, 1000) |> println\n",
    "\n",
    "# # evalcb = function ()\n",
    "# #   @show loss(Xs[5], Ys[5])\n",
    "# #   println(sample(deepcopy(m), alphabet, 100))\n",
    "# # end\n"
   ]
  },
  {
   "cell_type": "code",
   "execution_count": null,
   "metadata": {},
   "outputs": [],
   "source": []
  }
 ],
 "metadata": {
  "@webio": {
   "lastCommId": "537BA3AE021C46F28AF0FE9675DAB152",
   "lastKernelId": "3b2889ef-5be6-444f-88f9-16d691efd8f6"
  },
  "kernelspec": {
   "display_name": "Julia 1.0.1",
   "language": "julia",
   "name": "julia-1.0"
  },
  "language_info": {
   "file_extension": ".jl",
   "mimetype": "application/julia",
   "name": "julia",
   "version": "1.0.1"
  }
 },
 "nbformat": 4,
 "nbformat_minor": 2
}
