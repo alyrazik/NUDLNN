{
 "cells": [
  {
   "cell_type": "code",
   "execution_count": 90,
   "metadata": {},
   "outputs": [],
   "source": [
    "using Flux\n",
    "using Base.Iterators: repeated, partition\n",
    "using DelimitedFiles"
   ]
  },
  {
   "cell_type": "markdown",
   "metadata": {},
   "source": [
    "## manual RNN"
   ]
  },
  {
   "cell_type": "code",
   "execution_count": 30,
   "metadata": {},
   "outputs": [
    {
     "data": {
      "text/plain": [
       "([-0.99856, 0.968526, -0.45685, 0.739666, 0.999984], [-0.99856, 0.968526, -0.45685, 0.739666, 0.999984])"
      ]
     },
     "execution_count": 30,
     "metadata": {},
     "output_type": "execute_result"
    }
   ],
   "source": [
    "Wxh = randn(5, 10)\n",
    "Whh = randn(5, 5)\n",
    "b   = randn(5)\n",
    "\n",
    "\n",
    "function rnn(h, x)\n",
    "  h = tanh.(Wxh * x .+ Whh * h .+ b)\n",
    "  return h, h\n",
    "end\n",
    "\n",
    "x = rand(10) # dummy data\n",
    "h = rand(5)  # initial hidden state\n",
    "\n",
    "h, y = rnn(h, x)"
   ]
  },
  {
   "cell_type": "markdown",
   "metadata": {},
   "source": [
    "## Ready RNN"
   ]
  },
  {
   "cell_type": "code",
   "execution_count": 238,
   "metadata": {},
   "outputs": [
    {
     "data": {
      "text/plain": [
       "#43 (generic function with 1 method)"
      ]
     },
     "execution_count": 238,
     "metadata": {},
     "output_type": "execute_result"
    }
   ],
   "source": [
    "m = Chain(\n",
    "  Flux.RNN(5, 2),\n",
    "  Dense(2, 5)\n",
    "  )\n",
    "\n",
    "function loss(xs, ys)\n",
    "  l = Flux.mse(m(xs), ys)\n",
    "  println(l)\n",
    "  Flux.truncate!(m)\n",
    "  return l\n",
    "end\n",
    "\n",
    "opt = ADAM(params(m), 0.01)"
   ]
  },
  {
   "cell_type": "code",
   "execution_count": 239,
   "metadata": {},
   "outputs": [
    {
     "name": "stdout",
     "output_type": "stream",
     "text": [
      "size((params(m))[1]) = (2, 5)\n",
      "size((params(m))[2]) = (2, 2)\n",
      "size((params(m))[3]) = (2,)\n",
      "size((params(m))[4]) = (2,)\n",
      "size((params(m))[5]) = (5, 2)\n",
      "size((params(m))[6]) = (5,)\n"
     ]
    },
    {
     "data": {
      "text/plain": [
       "(5,)"
      ]
     },
     "execution_count": 239,
     "metadata": {},
     "output_type": "execute_result"
    }
   ],
   "source": [
    "@show size(params(m)[1])\n",
    "@show size(params(m)[2])\n",
    "@show size(params(m)[3])\n",
    "@show size(params(m)[4])\n",
    "@show size(params(m)[5])\n",
    "@show size(params(m)[6])"
   ]
  },
  {
   "cell_type": "code",
   "execution_count": 240,
   "metadata": {},
   "outputs": [
    {
     "name": "stdout",
     "output_type": "stream",
     "text": [
      "size((params(m_lstm))[1]) = (8, 5)\n",
      "size((params(m_lstm))[2]) = (8, 2)\n",
      "size((params(m_lstm))[3]) = (8,)\n",
      "size((params(m_lstm))[4]) = (2,)\n",
      "size((params(m_lstm))[5]) = (2,)\n",
      "size((params(m_lstm))[6]) = (5, 2)\n"
     ]
    },
    {
     "data": {
      "text/plain": [
       "(5, 2)"
      ]
     },
     "execution_count": 240,
     "metadata": {},
     "output_type": "execute_result"
    }
   ],
   "source": [
    "m_lstm = Chain(\n",
    "  Flux.LSTM(5, 2),\n",
    "  Dense(2, 5)\n",
    "  )\n",
    "\n",
    "@show size(params(m_lstm)[1])\n",
    "@show size(params(m_lstm)[2])\n",
    "@show size(params(m_lstm)[3])\n",
    "@show size(params(m_lstm)[4])\n",
    "@show size(params(m_lstm)[5])\n",
    "@show size(params(m_lstm)[6])"
   ]
  },
  {
   "cell_type": "code",
   "execution_count": 241,
   "metadata": {},
   "outputs": [
    {
     "data": {
      "text/plain": [
       "([178.0 109.0; 1457.0 1361.0; … ; 356.0 333.0; 1954.0 1016.0], AbstractString[\"x\" \"y\"])"
      ]
     },
     "execution_count": 241,
     "metadata": {},
     "output_type": "execute_result"
    }
   ],
   "source": [
    "d,h = readdlm(\"rnn_data.csv\",',',header=true)"
   ]
  },
  {
   "cell_type": "code",
   "execution_count": 242,
   "metadata": {},
   "outputs": [],
   "source": [
    "x=d[:,1];\n",
    "y=d[:,2];"
   ]
  },
  {
   "cell_type": "code",
   "execution_count": 243,
   "metadata": {},
   "outputs": [],
   "source": [
    "Xs=collect(partition(x,5)); #partiion each 10 elements as batch\n",
    "Ys=collect(partition(y,5));"
   ]
  },
  {
   "cell_type": "code",
   "execution_count": 244,
   "metadata": {},
   "outputs": [
    {
     "data": {
      "text/plain": [
       "40-element Array{Array{Float64,1},1}:\n",
       " [178.0, 1457.0, 177.0, 2211.0, 671.0]  \n",
       " [1191.0, 481.0, 537.0, 1530.0, 280.0]  \n",
       " [4258.0, 208.0, 193.0, 249.0, 887.0]   \n",
       " [1264.0, 163.0, 1706.0, 130.0, 121.0]  \n",
       " [200.0, 15.0, 118.0, 176.0, 1341.0]    \n",
       " [1521.0, 2806.0, 212.0, 973.0, 1141.0] \n",
       " [385.0, 192.0, 368.0, 268.0, 298.0]    \n",
       " [423.0, 252.0, 479.0, 5352.0, 306.0]   \n",
       " [2055.0, 517.0, 2087.0, 134.0, 355.0]  \n",
       " [206.0, 3572.0, 97.0, 338.0, 84.0]     \n",
       " [108.0, 726.0, 355.0, 237.0, 260.0]    \n",
       " [459.0, 343.0, 165.0, 230.0, 421.0]    \n",
       " [417.0, 630.0, 802.0, 541.0, 232.0]    \n",
       " ⋮                                      \n",
       " [1032.0, 2543.0, 6164.0, 714.0, 1462.0]\n",
       " [528.0, 421.0, 303.0, 1967.0, 111.0]   \n",
       " [2105.0, 477.0, 806.0, 813.0, 746.0]   \n",
       " [322.0, 469.0, 390.0, 622.0, 346.0]    \n",
       " [757.0, 598.0, 769.0, 1843.0, 266.0]   \n",
       " [435.0, 519.0, 892.0, 3370.0, 455.0]   \n",
       " [572.0, 360.0, 4840.0, 545.0, 584.0]   \n",
       " [2675.0, 1805.0, 644.0, 626.0, 537.0]  \n",
       " [1476.0, 631.0, 588.0, 2080.0, 393.0]  \n",
       " [374.0, 544.0, 330.0, 371.0, 518.0]    \n",
       " [436.0, 1359.0, 377.0, 512.0, 1666.0]  \n",
       " [703.0, 399.0, 365.0, 356.0, 1954.0]   "
      ]
     },
     "execution_count": 244,
     "metadata": {},
     "output_type": "execute_result"
    }
   ],
   "source": [
    "Xs"
   ]
  },
  {
   "cell_type": "code",
   "execution_count": 245,
   "metadata": {},
   "outputs": [],
   "source": [
    "dataset=collect(zip(Xs,Ys) );"
   ]
  },
  {
   "cell_type": "code",
   "execution_count": 246,
   "metadata": {},
   "outputs": [
    {
     "name": "stdout",
     "output_type": "stream",
     "text": [
      "533603.4893578403 (tracked)\n",
      "657872.1255309687 (tracked)\n",
      "3.3951454120171554e6 (tracked)\n",
      "542049.8238607257 (tracked)\n",
      "330842.55057825125 (tracked)\n",
      "2.0020564210947428e6 (tracked)\n",
      "56210.75553586813 (tracked)\n",
      "5.4853134147440735e6 (tracked)\n",
      "1.645133324784847e6 (tracked)\n",
      "2.423962767930881e6 (tracked)\n",
      "66512.82006851111 (tracked)\n",
      "69698.01971671465 (tracked)\n",
      "189181.15724903328 (tracked)\n",
      "242833.2515386131 (tracked)\n",
      "864144.8449620723 (tracked)\n",
      "246061.5820698685 (tracked)\n",
      "1.0582942415753312e6 (tracked)\n",
      "69172.57743917863 (tracked)\n",
      "116488.2225837993 (tracked)\n",
      "868797.1661508481 (tracked)\n",
      "393134.2700466471 (tracked)\n",
      "2.947929043654736e6 (tracked)\n",
      "77536.2407785309 (tracked)\n",
      "525706.4876866997 (tracked)\n",
      "1.4582918076257245e6 (tracked)\n",
      "59315.31796561587 (tracked)\n",
      "180150.40089882832 (tracked)\n",
      "478159.10003341193 (tracked)\n",
      "8.876239084243275e6 (tracked)\n",
      "780194.1613656018 (tracked)\n",
      "1.002797405284827e6 (tracked)\n",
      "137511.34900527768 (tracked)\n",
      "762743.7608346053 (tracked)\n",
      "1.3169785809434145e6 (tracked)\n",
      "4.654251213832908e6 (tracked)\n",
      "1.6571275192812667e6 (tracked)\n",
      "1.2772309234066992e6 (tracked)\n",
      "123614.92146618615 (tracked)\n",
      "536348.7669131669 (tracked)\n",
      "331267.44072717626 (tracked)\n"
     ]
    }
   ],
   "source": [
    "Flux.train!(loss, dataset, opt)"
   ]
  },
  {
   "cell_type": "code",
   "execution_count": 229,
   "metadata": {},
   "outputs": [
    {
     "data": {
      "text/plain": [
       "Tracked 5-element Array{Float64,1}:\n",
       "  0.3362286152424313\n",
       "  1.7986437340884203\n",
       " -0.553178836489123 \n",
       " -0.6213351530805327\n",
       "  0.7704204754144215"
      ]
     },
     "execution_count": 229,
     "metadata": {},
     "output_type": "execute_result"
    }
   ],
   "source": [
    "m(Xs[1])"
   ]
  },
  {
   "cell_type": "code",
   "execution_count": null,
   "metadata": {},
   "outputs": [],
   "source": []
  }
 ],
 "metadata": {
  "@webio": {
   "lastCommId": "DC5C816DEC9C42B38B7271AB1A2BCFF9",
   "lastKernelId": "b64d2b92-a454-4413-93f3-d20137583834"
  },
  "kernelspec": {
   "display_name": "Julia 1.0.1",
   "language": "julia",
   "name": "julia-1.0"
  },
  "language_info": {
   "file_extension": ".jl",
   "mimetype": "application/julia",
   "name": "julia",
   "version": "1.0.1"
  }
 },
 "nbformat": 4,
 "nbformat_minor": 2
}
