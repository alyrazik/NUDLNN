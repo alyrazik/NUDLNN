{
 "cells": [
  {
   "cell_type": "code",
   "execution_count": 145,
   "metadata": {},
   "outputs": [],
   "source": [
    "using Flux\n",
    "using Flux: onehot, chunk, batchseq, throttle, crossentropy\n",
    "using StatsBase: wsample\n",
    "using Base.Iterators: partition\n"
   ]
  },
  {
   "cell_type": "markdown",
   "metadata": {},
   "source": [
    "### Examples"
   ]
  },
  {
   "cell_type": "code",
   "execution_count": 147,
   "metadata": {},
   "outputs": [
    {
     "data": {
      "text/plain": [
       "3-element Flux.OneHotVector:\n",
       " false\n",
       "  true\n",
       " false"
      ]
     },
     "execution_count": 147,
     "metadata": {},
     "output_type": "execute_result"
    }
   ],
   "source": [
    "onehot('a',['y','a','i'])"
   ]
  },
  {
   "cell_type": "code",
   "execution_count": 148,
   "metadata": {},
   "outputs": [
    {
     "data": {
      "text/plain": [
       "3-element Array{Array{Int64,1},1}:\n",
       " [1, 2]\n",
       " [3, 4]\n",
       " [5, 6]"
      ]
     },
     "execution_count": 148,
     "metadata": {},
     "output_type": "execute_result"
    }
   ],
   "source": [
    "x= chunk([1,2,3,4,5,6],3)"
   ]
  },
  {
   "cell_type": "code",
   "execution_count": 149,
   "metadata": {},
   "outputs": [
    {
     "data": {
      "text/plain": [
       "2-element Array{Array{Int64,1},1}:\n",
       " [1, 3, 5]\n",
       " [2, 4, 6]"
      ]
     },
     "execution_count": 149,
     "metadata": {},
     "output_type": "execute_result"
    }
   ],
   "source": [
    "batchseq(x)"
   ]
  },
  {
   "cell_type": "code",
   "execution_count": 150,
   "metadata": {},
   "outputs": [
    {
     "data": {
      "text/plain": [
       "3-element Array{Array{Int64,1},1}:\n",
       " [1, 2, 3, 4]\n",
       " [5, 6, 7, 8]\n",
       " [9, 10]     "
      ]
     },
     "execution_count": 150,
     "metadata": {},
     "output_type": "execute_result"
    }
   ],
   "source": [
    "x= chunk([1,2,3,4,5,6,7,8,9,10],3)"
   ]
  },
  {
   "cell_type": "code",
   "execution_count": 151,
   "metadata": {},
   "outputs": [
    {
     "data": {
      "text/plain": [
       "4-element Array{Array{T,1} where T,1}:\n",
       " [1, 5, 9]                           \n",
       " [2, 6, 10]                          \n",
       " Union{Nothing, Int64}[3, 7, nothing]\n",
       " Union{Nothing, Int64}[4, 8, nothing]"
      ]
     },
     "execution_count": 151,
     "metadata": {},
     "output_type": "execute_result"
    }
   ],
   "source": [
    "batchseq(x)"
   ]
  },
  {
   "cell_type": "code",
   "execution_count": 152,
   "metadata": {},
   "outputs": [
    {
     "data": {
      "text/plain": [
       "4-element Array{Array{Int64,1},1}:\n",
       " [1, 5, 9]  \n",
       " [2, 6, 10] \n",
       " [3, 7, 100]\n",
       " [4, 8, 100]"
      ]
     },
     "execution_count": 152,
     "metadata": {},
     "output_type": "execute_result"
    }
   ],
   "source": [
    "batchseq(x,100)"
   ]
  },
  {
   "cell_type": "code",
   "execution_count": 222,
   "metadata": {
    "scrolled": true
   },
   "outputs": [
    {
     "data": {
      "text/plain": [
       "\"k\""
      ]
     },
     "execution_count": 222,
     "metadata": {},
     "output_type": "execute_result"
    }
   ],
   "source": [
    "u=IOBuffer()\n",
    "t=wsample(['a','k','l'],[0.2,0.8,0.05])\n",
    "write(u,t)\n",
    "String(take!(u))"
   ]
  },
  {
   "cell_type": "markdown",
   "metadata": {},
   "source": [
    "###########################################################################################"
   ]
  },
  {
   "cell_type": "code",
   "execution_count": 153,
   "metadata": {},
   "outputs": [],
   "source": [
    "cd(@__DIR__)\n",
    "\n",
    "isfile(\"input.txt\") ||\n",
    "  download(\"https://cs.stanford.edu/people/karpathy/char-rnn/shakespeare_input.txt\",\n",
    "           \"input.txt\")\n",
    "\n",
    "text = collect(String(read(\"input.txt\")));\n",
    "alphabet = [unique(text)..., '_'];\n",
    "text = map(ch -> onehot(ch, alphabet), text) # array of 4M and each one is 68 length\n",
    "stop = onehot('_', alphabet); # array of 68 length"
   ]
  },
  {
   "cell_type": "code",
   "execution_count": 154,
   "metadata": {},
   "outputs": [
    {
     "name": "stdout",
     "output_type": "stream",
     "text": [
      "size(o) = (50,)\n",
      "size(o[1]) = (91467,)\n",
      "size(o[end]) = (91455,)\n",
      "size((o[1])[1]) = (68,)\n"
     ]
    },
    {
     "data": {
      "text/plain": [
       "(68,)"
      ]
     },
     "execution_count": 154,
     "metadata": {},
     "output_type": "execute_result"
    }
   ],
   "source": [
    "o=chunk(text, 50); # Array of 50  .. each one is 91,467 .. each one is 68 length  \n",
    "@show size(o)\n",
    "@show size(o[1])\n",
    "@show size(o[end])\n",
    "@show size(o[1][1])\n"
   ]
  },
  {
   "cell_type": "code",
   "execution_count": 213,
   "metadata": {},
   "outputs": [
    {
     "name": "stdout",
     "output_type": "stream",
     "text": [
      "size(b) = (91467,)\n",
      "size(b[1]) = (68, 50)\n",
      "size(b[end]) = (68, 50)\n"
     ]
    },
    {
     "data": {
      "text/plain": [
       "(68, 50)"
      ]
     },
     "execution_count": 213,
     "metadata": {},
     "output_type": "execute_result"
    }
   ],
   "source": [
    "b=batchseq( chunk(text, 50),stop)\n",
    "@show size(b)\n",
    "@show size(b[1])\n",
    "@show size(b[end])"
   ]
  },
  {
   "cell_type": "code",
   "execution_count": 156,
   "metadata": {},
   "outputs": [],
   "source": [
    "d= collect(partition(b,50)); # 91467/50 -> 1830 "
   ]
  },
  {
   "cell_type": "markdown",
   "metadata": {},
   "source": [
    "################################################################################################################"
   ]
  },
  {
   "cell_type": "code",
   "execution_count": 210,
   "metadata": {},
   "outputs": [],
   "source": [
    "N = length(alphabet)\n",
    "seqlen = 50\n",
    "nbatch = 50\n",
    "\n",
    "Xs = collect( partition( batchseq( chunk(text, nbatch), stop), seqlen));\n",
    "Ys = collect(partition(batchseq(chunk(text[2:end], nbatch), stop), seqlen));\n",
    "\n"
   ]
  },
  {
   "cell_type": "code",
   "execution_count": 159,
   "metadata": {},
   "outputs": [
    {
     "data": {
      "text/plain": [
       "#27 (generic function with 1 method)"
      ]
     },
     "execution_count": 159,
     "metadata": {},
     "output_type": "execute_result"
    }
   ],
   "source": [
    "m = Chain(\n",
    "  LSTM(N, 128),\n",
    "  LSTM(128, 128),\n",
    "  Dense(128, N),\n",
    "  softmax)\n",
    "\n",
    "m = gpu(m)\n",
    "\n",
    "function loss(xs, ys)\n",
    "  l = sum(crossentropy.(m.(gpu.(xs)), gpu.(ys)))\n",
    "  Flux.truncate!(m)\n",
    "  return l\n",
    "end\n",
    "\n",
    "opt = ADAM(params(m), 0.01)\n",
    "tx, ty = (gpu.(Xs[5]), gpu.(Ys[5]))\n",
    "evalcb = () -> @show loss(tx, ty)\n"
   ]
  },
  {
   "cell_type": "code",
   "execution_count": 160,
   "metadata": {},
   "outputs": [
    {
     "name": "stdout",
     "output_type": "stream",
     "text": [
      "loss(tx, ty) = 204.27115834530588 (tracked)\n"
     ]
    },
    {
     "ename": "InterruptException",
     "evalue": "InterruptException:",
     "output_type": "error",
     "traceback": [
      "InterruptException:",
      "",
      "Stacktrace:",
      " [1] #train!#121(::getfield(Flux, Symbol(\"#throttled#18\")){getfield(Flux, Symbol(\"##throttled#10#14\")){Bool,Bool,getfield(Main, Symbol(\"##27#28\")),Int64}}, ::Function, ::Function, ::Base.Iterators.Zip2{Array{Array{Flux.OneHotMatrix{Array{Flux.OneHotVector,1}},1},1},Array{Array{Flux.OneHotMatrix{Array{Flux.OneHotVector,1}},1},1}}, ::getfield(Flux.Optimise, Symbol(\"##43#47\"))) at /home/aliaa/.julia/packages/Juno/46C8i/src/progress.jl:113",
      " [2] (::getfield(Flux.Optimise, Symbol(\"#kw##train!\")))(::NamedTuple{(:cb,),Tuple{getfield(Flux, Symbol(\"#throttled#18\")){getfield(Flux, Symbol(\"##throttled#10#14\")){Bool,Bool,getfield(Main, Symbol(\"##27#28\")),Int64}}}}, ::typeof(Flux.Optimise.train!), ::Function, ::Base.Iterators.Zip2{Array{Array{Flux.OneHotMatrix{Array{Flux.OneHotVector,1}},1},1},Array{Array{Flux.OneHotMatrix{Array{Flux.OneHotVector,1}},1},1}}, ::Function) at ./none:0",
      " [3] top-level scope at In[160]:1"
     ]
    }
   ],
   "source": [
    "\n",
    "Flux.train!(loss, zip(Xs, Ys), opt,cb = throttle(evalcb, 30))\n"
   ]
  },
  {
   "cell_type": "code",
   "execution_count": 6,
   "metadata": {},
   "outputs": [
    {
     "name": "stdout",
     "output_type": "stream",
     "text": [
      "[\n",
      "With you up all it.\n",
      "Thy hoind to pretly not it should none\n",
      "So lived's my slying hars him land.\n",
      "\n",
      "KING CLAUDIDE:\n",
      "Why my birs present, whore makest my body's Hansters reador\n",
      "That you is wold rens, by the writion.\n",
      "\n",
      "OLIVIANO:\n",
      "Play you, counterabe in the Qoerity. Come, so a worbe:\n",
      "To Achar, 'Twereless, sound up in my land.\n",
      "\n",
      "CLOTEN:\n",
      "Not in thind of my deed blass; and Frond, thou dreath.\n",
      "\n",
      "DUGAN:\n",
      "What my soon you adlance of think his lady. Sir.'\n",
      "\n",
      "GYMBULLIN:\n",
      "I coull from it should way for that allow,\n",
      "How speaks eye to't; malied, we thee of sendened? Come,\n",
      "honour 'tis sour hold good, Get the got, saying,\n",
      "You deland presen: if I may ready implestane;\n",
      "Solnest murder is heint me my mitches were you wilf;\n",
      "The revengerous, Tomen'd, here peace,\n",
      "Our mears Aceive Pouse 'gonay cut, nor great you.\n",
      "\n",
      "FLULLIB:\n",
      "The you extle; Anation to too to her before, tyrand\n",
      "I'll may I be for if edd the more, poor is a pint ginciment\n",
      "Chapomed in true were is will had you.\n",
      "How faith the whit: the injure thy choned to you-\n"
     ]
    }
   ],
   "source": [
    "# Sampling\n",
    "m = cpu(m)\n",
    "\n",
    "function sample(m, alphabet, len; temp = 1)\n",
    "  Flux.reset!(m)\n",
    "  buf = IOBuffer()\n",
    "  c = rand(alphabet)\n",
    "  for i = 1:len\n",
    "    write(buf, c)\n",
    "    c = wsample(alphabet, m(onehot(c, alphabet)).data)\n",
    "  end\n",
    "  return String(take!(buf))\n",
    "end\n",
    "\n",
    "sample(m, alphabet, 1000) |> println\n",
    "\n",
    "# evalcb = function ()\n",
    "#   @show loss(Xs[5], Ys[5])\n",
    "#   println(sample(deepcopy(m), alphabet, 100))\n",
    "# end\n"
   ]
  }
 ],
 "metadata": {
  "@webio": {
   "lastCommId": "3C3364283C864CC685843007605FCB00",
   "lastKernelId": "4c80fd0d-3232-4aea-bb54-abde5f33bb28"
  },
  "kernelspec": {
   "display_name": "Julia 1.0.1",
   "language": "julia",
   "name": "julia-1.0"
  },
  "language_info": {
   "file_extension": ".jl",
   "mimetype": "application/julia",
   "name": "julia",
   "version": "1.0.1"
  }
 },
 "nbformat": 4,
 "nbformat_minor": 2
}
