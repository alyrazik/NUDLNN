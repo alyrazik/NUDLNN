{
 "cells": [
  {
   "cell_type": "markdown",
   "metadata": {},
   "source": [
    "A first exploration of the MNIST data set using Flux and a fully connected network "
   ]
  },
  {
   "cell_type": "code",
   "execution_count": 1,
   "metadata": {},
   "outputs": [],
   "source": [
    "] activate ."
   ]
  },
  {
   "cell_type": "markdown",
   "metadata": {},
   "source": [
    "This above command (by Ali) is just to make sure that we are all using the same version of the packages. "
   ]
  },
  {
   "cell_type": "code",
   "execution_count": 2,
   "metadata": {},
   "outputs": [
    {
     "name": "stderr",
     "output_type": "stream",
     "text": [
      "┌ Info: Precompiling Flux [587475ba-b771-5e3f-ad9e-33799f191a9c]\n",
      "└ @ Base loading.jl:1189\n"
     ]
    }
   ],
   "source": [
    "using Flux, Flux.Data.MNIST, Statistics # Our DLNN framework, Some conveniet Data, and Julia's Statistics package\n",
    "using Flux: onehotbatch, onecold, crossentropy, throttle\n",
    "using Base.Iterators: repeated # The repeated function makes our training procedure easier, it eliminate looping over the data several times "
   ]
  },
  {
   "cell_type": "code",
   "execution_count": 3,
   "metadata": {},
   "outputs": [],
   "source": [
    "imgs = MNIST.images();"
   ]
  },
  {
   "cell_type": "markdown",
   "metadata": {},
   "source": [
    "If you try to inspect `imgs` you should see that it is an array of arrays, where each internal array is 2D array containing the image data. To get the the type, you run \n",
    "```julia\n",
    "imgs |> typeof\n",
    "```\n",
    "which gives you \n",
    "```\n",
    "Array{Array{Gray{Normed{UInt8,8}},2},1}\n",
    "```\n",
    "I use here Julia's [chaining operator `|>`](https://docs.julialang.org/en/v1/base/base/#Base.:|%3E) for convenience, I could have equivalently expressed this at `typeof(imgs)`.\n",
    "To get the size, we can \n",
    "```julia\n",
    "imgs |> size\n",
    "```\n",
    "to get \n",
    "```\n",
    "(60000,)\n",
    "```\n",
    "This is a 1D array (i.e. a vector) of 60 thousand images. "
   ]
  },
  {
   "cell_type": "code",
   "execution_count": 4,
   "metadata": {},
   "outputs": [],
   "source": [
    "using Images #Not so imporant here"
   ]
  },
  {
   "cell_type": "markdown",
   "metadata": {},
   "source": [
    "We look at one of the images"
   ]
  },
  {
   "cell_type": "code",
   "execution_count": 5,
   "metadata": {},
   "outputs": [
    {
     "data": {
      "image/png": "[encoded data removed]",
      "text/plain": [
       "28×28 Array{Gray{N0f8},2} with eltype Gray{Normed{UInt8,8}}:\n",
       " Gray{N0f8}(1.0)  Gray{N0f8}(1.0)  …  Gray{N0f8}(1.0)  Gray{N0f8}(1.0)\n",
       " Gray{N0f8}(1.0)  Gray{N0f8}(1.0)     Gray{N0f8}(1.0)  Gray{N0f8}(1.0)\n",
       " Gray{N0f8}(1.0)  Gray{N0f8}(1.0)     Gray{N0f8}(1.0)  Gray{N0f8}(1.0)\n",
       " Gray{N0f8}(1.0)  Gray{N0f8}(1.0)     Gray{N0f8}(1.0)  Gray{N0f8}(1.0)\n",
       " Gray{N0f8}(1.0)  Gray{N0f8}(1.0)     Gray{N0f8}(1.0)  Gray{N0f8}(1.0)\n",
       " Gray{N0f8}(1.0)  Gray{N0f8}(1.0)  …  Gray{N0f8}(1.0)  Gray{N0f8}(1.0)\n",
       " Gray{N0f8}(1.0)  Gray{N0f8}(1.0)     Gray{N0f8}(1.0)  Gray{N0f8}(1.0)\n",
       " Gray{N0f8}(1.0)  Gray{N0f8}(1.0)     Gray{N0f8}(1.0)  Gray{N0f8}(1.0)\n",
       " Gray{N0f8}(1.0)  Gray{N0f8}(1.0)     Gray{N0f8}(1.0)  Gray{N0f8}(1.0)\n",
       " Gray{N0f8}(1.0)  Gray{N0f8}(1.0)     Gray{N0f8}(1.0)  Gray{N0f8}(1.0)\n",
       " Gray{N0f8}(1.0)  Gray{N0f8}(1.0)  …  Gray{N0f8}(1.0)  Gray{N0f8}(1.0)\n",
       " Gray{N0f8}(1.0)  Gray{N0f8}(1.0)     Gray{N0f8}(1.0)  Gray{N0f8}(1.0)\n",
       " Gray{N0f8}(1.0)  Gray{N0f8}(1.0)     Gray{N0f8}(1.0)  Gray{N0f8}(1.0)\n",
       " ⋮                                 ⋱                                  \n",
       " Gray{N0f8}(1.0)  Gray{N0f8}(1.0)     Gray{N0f8}(1.0)  Gray{N0f8}(1.0)\n",
       " Gray{N0f8}(1.0)  Gray{N0f8}(1.0)     Gray{N0f8}(1.0)  Gray{N0f8}(1.0)\n",
       " Gray{N0f8}(1.0)  Gray{N0f8}(1.0)     Gray{N0f8}(1.0)  Gray{N0f8}(1.0)\n",
       " Gray{N0f8}(1.0)  Gray{N0f8}(1.0)     Gray{N0f8}(1.0)  Gray{N0f8}(1.0)\n",
       " Gray{N0f8}(1.0)  Gray{N0f8}(1.0)  …  Gray{N0f8}(1.0)  Gray{N0f8}(1.0)\n",
       " Gray{N0f8}(1.0)  Gray{N0f8}(1.0)     Gray{N0f8}(1.0)  Gray{N0f8}(1.0)\n",
       " Gray{N0f8}(1.0)  Gray{N0f8}(1.0)     Gray{N0f8}(1.0)  Gray{N0f8}(1.0)\n",
       " Gray{N0f8}(1.0)  Gray{N0f8}(1.0)     Gray{N0f8}(1.0)  Gray{N0f8}(1.0)\n",
       " Gray{N0f8}(1.0)  Gray{N0f8}(1.0)     Gray{N0f8}(1.0)  Gray{N0f8}(1.0)\n",
       " Gray{N0f8}(1.0)  Gray{N0f8}(1.0)  …  Gray{N0f8}(1.0)  Gray{N0f8}(1.0)\n",
       " Gray{N0f8}(1.0)  Gray{N0f8}(1.0)     Gray{N0f8}(1.0)  Gray{N0f8}(1.0)\n",
       " Gray{N0f8}(1.0)  Gray{N0f8}(1.0)     Gray{N0f8}(1.0)  Gray{N0f8}(1.0)"
      ]
     },
     "execution_count": 5,
     "metadata": {},
     "output_type": "execute_result"
    }
   ],
   "source": [
    "Gray(1)-imgs[40]"
   ]
  },
  {
   "cell_type": "markdown",
   "metadata": {},
   "source": [
    "Our images are stored as Julia `Gray` image objects. We can, for example, convert the 40th image to floating point array by \n",
    "```julia\n",
    "float(imgs[40])\n",
    "```\n",
    "Give it a try and observe the numbers you get. "
   ]
  },
  {
   "cell_type": "code",
   "execution_count": 6,
   "metadata": {},
   "outputs": [],
   "source": [
    "X = hcat(float.(reshape.(imgs, :))...);"
   ]
  },
  {
   "cell_type": "markdown",
   "metadata": {},
   "source": [
    "In the above statement a great deal is happening... lets start from the center, running\n",
    "```julia \n",
    "reshape.(imgs, :)\n",
    "```\n",
    "will apply the [`broadcast`](https://docs.julialang.org/en/v1/manual/arrays/index.html#Broadcasting-1) operator to every element in the `img` vector. We now get a vector of vectors, which we convert to floating numbers, via `float` (also doing broadcast with the **\\.**) to get vector of floating point vectors. Finally we do horizontal concatenation of the last output to get a one big matrix.  \n",
    "\n",
    "This is NOT the same as the **design matrix** in our book. Here, each *column* is corresponds to a different example and each *row* corresponds to a feature. "
   ]
  },
  {
   "cell_type": "code",
   "execution_count": 7,
   "metadata": {},
   "outputs": [],
   "source": [
    "labels = MNIST.labels();"
   ]
  },
  {
   "cell_type": "markdown",
   "metadata": {},
   "source": [
    "We get the labels for the MNIST data. They are integers from 0 to 9"
   ]
  },
  {
   "cell_type": "code",
   "execution_count": 8,
   "metadata": {},
   "outputs": [
    {
     "data": {
      "text/html": [
       "<table><tbody><tr><td style='text-align:center;vertical-align:middle; margin: 0.5em;border:1px #90999f solid;border-collapse:collapse'><img style='max-width: 100px; max-height:100px;display:inline' src=\"data:image/png;base64,iVBORw0KGgoAAAANSUhEUgAAAHAAAABwCAAAAADji6uXAAAABGdBTUEAALGPC/xhBQAAACBjSFJNAAB6JgAAgIQAAPoAAACA6AAAdTAAAOpgAAA6mAAAF3CculE8AAAAAmJLR0QA/4ePzL8AAAJDSURBVGje7dlBiE1RHMfxz5P0MhEhWchKUVYTYqGZsqGkZBaibCwIG0JSVhYWmCUWYsNCbKzYiLDRDFaTLWMximmQSUwZi3Om91Lz3rsW847TuXV7/3fOve/7fvfX+Z//Obc2bW6PeXPMK8ACLMACLMAC7OCY/y83TeE1LuAhTmI3tqWoMH9grWpNM4UH2NfUNo2lOBPPpBTmD6zs4V0ciPFWnMJCXMIHPMOKlBTmD6yUS0ewHzVsxw2sjn3L8Fhr/7qiMH9gJQ8/N8X9Gv5BbzyTU5g/sJKHQ/iNlVgzyzXjwpxJqHfe4mC8flE3FOYPrOThcPyHNWz6q29UyK1X8UWoc2qx7xbO4UQ3FOYPrOThAO7F+B3Wxs/Dwlz5Mfb1CfPljM+rsKFbCvMHVvJwJn9+wnP8xBGMCWPuEI5jfYsfzv+Rpr22GMIWwa8FqOMbduAmlsT2pBTmD6y8PjyG6zGu4z52pqwwf2DHHk4IdUuvRq3SiyfoSVlh/sCO5sNXQi1zWciVy4U5cAy/FA+7DGw7DieE9fxI/N6PQezBe1zE6ZQV5g9sOw5/4HuMN+K8UHcO4AoeKR52GdjWw2FhvT4t1J99sX1xbHuKSZ3n0/wfaVoefhX2XkaFPZazTX3jGrXNsIa3ySnMH9jSw5d4E+O68F6JkD9vx3jA7HunSSjMH9iyppnEUdxpamveB92Fa8JeWrIK8we2HIc92IsXQg1KeN+7WahH1wnzYtIK8wdW3qf57xQWYAEWYAEWYAG2P/4AUe1fspCAAAIAAAAASUVORK5C\"></td><td style='text-align:center;vertical-align:middle; margin: 0.5em;border:1px #90999f solid;border-collapse:collapse'><img style='max-width: 100px; max-height:100px;display:inline' src=\"data:image/png;base64,iVBORw0KGgoAAAANSUhEUgAAAHAAAABwCAAAAADji6uXAAAABGdBTUEAALGPC/xhBQAAACBjSFJNAAB6JgAAgIQAAPoAAACA6AAAdTAAAOpgAAA6mAAAF3CculE8AAAAAmJLR0QA/4ePzL8AAAHdSURBVGje7dlPiI1RGMfxz8v4lyalLOykLDQblEJ2ssCCpWSp2LJg489CURpZiB0bmykWNprSmJKNDRZiMawslZJhwaixOG/RdHW7807Tc5/OWd33OXW/fft13vec5zTzlnesWGZeBVZgBVZgBVZgBVZgBQ4FcKRXcQansRvn2tojfMIZbB0mw/zAptfZ4ikOt7/n0SyYP9HOH8FodMP8wJ4ZvsIBfFcyHMXedu45fiq57sJ+XMeaqIb5gc3/zvgf8AK3sAqv2/p7PMMUnrS17ZjAWETD/MCmX59mFnPYuKA+hze4iklswceIhvmBfTPsN95hH77hAU5GM8wPHOn6B2NYr3w7QxrmB3bOcApfsRqbIxrmB3bOcBq/cF/Zy4YzzA/s9D0cx0XswMuohvmBi1qHs0rf5i72+HvGCGmYHzhQhjPKmfE2vii9uHvKniasYX7gQO/SnXiLDbiD48NgmB84UIaPcU3pxa3DNlzBsciG+YED72l+4CFOtc9r2+dDUQ3zAxe9L/2Mo0of9Tcu4YKyPkMZ5gd27rXdwGWlfzqOs9EM8wM7Zwg3cV65o5pW7qTCGOYHLkmGsFK5U5zEwUiG+YGde23/jk3KHVQow/zAJVuHYQ0rsALjA/8ALmZNsBmMowUAAAAASUVORK5C\"></td><td style='text-align:center;vertical-align:middle; margin: 0.5em;border:1px #90999f solid;border-collapse:collapse'><img style='max-width: 100px; max-height:100px;display:inline' src=\"data:image/png;base64,iVBORw0KGgoAAAANSUhEUgAAAHAAAABwCAAAAADji6uXAAAABGdBTUEAALGPC/xhBQAAACBjSFJNAAB6JgAAgIQAAPoAAACA6AAAdTAAAOpgAAA6mAAAF3CculE8AAAAAmJLR0QA/4ePzL8AAAH6SURBVGje7dlPiE1hHMbxz/UnNQvUbFgqzWzYTEos7IkVCzaymZINkSIkdrKQ/K8RaRqTmYUSzdKGoiwVspGiWchCyZgJi/cuxsyYe88t557z631Xp3M77/d9fk/P+/7OPY3fyh1LSuZlYAZmYAZmYAZmYAZmYAZmYCljWacPvsQljKLRvLcSZ3F4ESXxS1o6sFH0/XAGD3EMH7FG8nA9PuM9nmFLVRTGBxbO4RAONa+349GsVX/HJozLHpY4Cnn4AufQgyfYOGfFDSzFGymvC00ev6TV9vAKJnEa2+b89gVH8brFpPFLWl0PRzGGPTgx6/4nXJb22Blpf72xyMTxS1pdD99iGmvxGBP4gQ943lz5VRysmsL4wLb70qfYjW9S3pZLnsIKnMfxKiqMDyz8bvFKOvvuYQS9OIP9WF1FhfGBhT2cwiCGMYC72FBlhfGBhfrSSWm/HMZeXNde9rqqMD6wUA4HcRu7cBF9dVAYH9iWh7+k8+4BtuIO1tVFYXxgy710Giel/mUA13TuX1cUxge2zOEBqQftl/7r7q+bwvjAf+bwq9Sz3JfyN6Kz86/rCuMDF8zhFI7gFnZK519vXRXGB87L4U/clPzbJ2VxVZ0VxgfOy+EEdkjfIC5I35JqrTA+8C8P32Gz5N+p/7Sa+CXtfg7DKYwP/AMzrFXRZOxOSwAAAABJRU5ErkJg\"></td><td style='text-align:center;vertical-align:middle; margin: 0.5em;border:1px #90999f solid;border-collapse:collapse'><img style='max-width: 100px; max-height:100px;display:inline' src=\"data:image/png;base64,iVBORw0KGgoAAAANSUhEUgAAAHAAAABwCAAAAADji6uXAAAABGdBTUEAALGPC/xhBQAAACBjSFJNAAB6JgAAgIQAAPoAAACA6AAAdTAAAOpgAAA6mAAAF3CculE8AAAAAmJLR0QA/4ePzL8AAAG6SURBVGje7dqxaxRBFMfxz2lQQjBoYackqQSDKCIWFoLYGEQL4SzMnyAYwS6NthKIYGlno4XaCCnEykCaIGglRkHRQq5JpSKCnhaTdClmcyTOPud1uxx89/t+7JtZ5jp/bG/t2GZeBVZgBVZgBVZgBf4XwKHcHz7BZfSxF11cwEEcK9kwPrCTsy/9iQn0MIslfMZH7MY9TGc+ffyWlpnhL5zCS6xiH77iLu7jMB7Le6njt7TMWTqEA1KG67VHyvMVRko2jA/MXg8PbXBvvg2G8YHZGZ5AR5qrrTKMD8xaD9drF+7gapsM4wMbZTiGUSxjuC2G8YHZsxRu4Dpe4FxbDOMDG72HH3AEv3ENNzXbk/4Tw/jARhnCIq7gCy7ioWZzNX5Ly88QPmEGTzEnzdhiDeMDN5Uh/MBJvMV7jJdqGB+46QzhDc7iNB5gZ4mG8YEDZQhTeIbv8tbF+C0t+9tiozouZVisYXzgwBm+K90wPjA7wxXpjHAOZ9bu9fAc56VzxCIN4wOzM/yG17iEo5iUzp36uNXgyeO3tOw9zYL0n4xHa9dd3Mb+kg3jAwfelxZvWIEVWIEVuPX1F1/NQuTOPQmXAAAAAElFTkSuQmCC\"></td><td style='text-align:center;vertical-align:middle; margin: 0.5em;border:1px #90999f solid;border-collapse:collapse'><img style='max-width: 100px; max-height:100px;display:inline' src=\"data:image/png;base64,iVBORw0KGgoAAAANSUhEUgAAAHAAAABwCAAAAADji6uXAAAABGdBTUEAALGPC/xhBQAAACBjSFJNAAB6JgAAgIQAAPoAAACA6AAAdTAAAOpgAAA6mAAAF3CculE8AAAAAmJLR0QA/4ePzL8AAAIaSURBVGje7dpNiI1RHMfxz+MlZkZeEoWFbJSXksTYyMtWUWQhko0N2VpbUJKSksWwUViPJEV5Syws1CxngSRJbLyM8jYW54jU497njuaeOZ1Tt3Pu/z6db79+/c//9H9uNWp8x6Rx5hVgARZgARZgAbYxpvyPTd7iLIZxA5twAXNTUJg/sBrrneY4TuLjX/F1eJSCwvyBHXv4BsdwDjOxKsbmRxX3cAubu60wf2BHHv7AQQxgNp5gMT6jR8jJ98JZOq3bCvMHNq6H34Tad17Iv6uCfwT/YEb8JKEwf2DjPHyAjXF9FxtSV5g/sHEeDsW5R3P/uqIwf2BjD+/Eedcfsa/4gFmYnJrC/IGNPHwn3DdhJZ7icIw/xlZcxJyUFOYPbFwP9+FyXC/Eq7jejrU4JNx1klGYP7DxWboel+L6JSoMYluqCvMHtu3hCI4IPbQqxlbjPnpTVpg/sC0PP2E3rmMqlgq90T7hflq1s0m3FOYPbFkPX2ALnmEJzmAR1mBUyM/pKSvMH/jPPHyOA4J/e3Ba6J+9jr8va7VBCgrzB9ZaMIJTuC3UvQEh374LvW7Yq3iYALD2LB3ETizHTSwQ/NuPK373tpNXmD+wNo2uxbkP84S6eELwr1fweEIozB9Y6+Gvntmw8A7wYXx4B45ixURRmD+w9iwdQj++xO/9wvumTr3rmsL8gWP+L0byCguwAAuwAAuwAFuPn2y2VKOazCnNAAAAAElFTkSuQmCC\"></td><td style='text-align:center;vertical-align:middle; margin: 0.5em;border:1px #90999f solid;border-collapse:collapse'><img style='max-width: 100px; max-height:100px;display:inline' src=\"data:image/png;base64,iVBORw0KGgoAAAANSUhEUgAAAHAAAABwCAAAAADji6uXAAAABGdBTUEAALGPC/xhBQAAACBjSFJNAAB6JgAAgIQAAPoAAACA6AAAdTAAAOpgAAA6mAAAF3CculE8AAAAAmJLR0QA/4ePzL8AAAJVSURBVGje7drPi41RGAfwz/WjyYRsLqMmsrOSxaRYWFGYwgoLU5KNxEJkoUjiH5jExo+FlcIkJT9mKSmJCYtJk4RiRE3NQuJanHfyzv2dNHPu6X1Wz33Oued7v8+393nPc84tVcyszZlhvAKwACwAC8ACsABsw+a1mrAN9zN/Dfoz/0Ruzlx05z5PZgt3xcAwfcBSsz3NB2zE+zpjFZQyv4xdubHrWIknanVMP6VxPYejgn7dOIkhvMN41bxxXKiKLW3AJv2UxvUc7sZNbMHdLPYWLzJ/EoOZP4YJLMEOHMbaGBimD9hQw49Yh8+ma9jInuEretTXbtYYpg/YsJaW/H3ftWN9sTJMH7CtWroIZ7EPCzuNYfqATTV8ie1CXYVzOIIFncQwfcBSq/PS04J2U1bGcUHHg53AMH3Alhr+wmthX/MlF68IdbUfm7A/VobpA7bUMG8XMYyHQh9R/Wv34hRWNWGSfkrj1jBvg4KeT9X2/AM4j+UxMEwf8J81nLIJ3MINvMKnLD6Ay3UYpZ/SztMwb9dwIPPLwtlN9R42/ZTG0+OPYgRXhf79TIuF7gn71Snbo34Pkn5K49DwDY7ikaDfhiYLjOC5oN/3LNaL1bEwTB+wppb+xE48xiXh/nBx1Zzb2bzhzP+WG+vFHeGuMQqG6QPWaPhA0G0+VjT40hh+m36eugyHhD6xJyaG6QPWaPgD64Ua2czyd8BbhfOcds6900/p7GtI0HFIqJVXqsb6sFl4kR7LYl3a+FPHbDFMH/C/9hZRMiwAC8ACsAAsAAvA1vYHoxRmmmiPbMQAAAAASUVORK5C\"></td></tr></tbody></table><div><small>(a vector displayed as a row to save space)</small></div>"
      ],
      "text/plain": [
       "6-element Array{Array{Gray{Normed{UInt8,8}},2},1}:\n",
       " [Gray{N0f8}(1.0) Gray{N0f8}(1.0) … Gray{N0f8}(1.0) Gray{N0f8}(1.0); Gray{N0f8}(1.0) Gray{N0f8}(1.0) … Gray{N0f8}(1.0) Gray{N0f8}(1.0); … ; Gray{N0f8}(1.0) Gray{N0f8}(1.0) … Gray{N0f8}(1.0) Gray{N0f8}(1.0); Gray{N0f8}(1.0) Gray{N0f8}(1.0) … Gray{N0f8}(1.0) Gray{N0f8}(1.0)]\n",
       " [Gray{N0f8}(1.0) Gray{N0f8}(1.0) … Gray{N0f8}(1.0) Gray{N0f8}(1.0); Gray{N0f8}(1.0) Gray{N0f8}(1.0) … Gray{N0f8}(1.0) Gray{N0f8}(1.0); … ; Gray{N0f8}(1.0) Gray{N0f8}(1.0) … Gray{N0f8}(1.0) Gray{N0f8}(1.0); Gray{N0f8}(1.0) Gray{N0f8}(1.0) … Gray{N0f8}(1.0) Gray{N0f8}(1.0)]\n",
       " [Gray{N0f8}(1.0) Gray{N0f8}(1.0) … Gray{N0f8}(1.0) Gray{N0f8}(1.0); Gray{N0f8}(1.0) Gray{N0f8}(1.0) … Gray{N0f8}(1.0) Gray{N0f8}(1.0); … ; Gray{N0f8}(1.0) Gray{N0f8}(1.0) … Gray{N0f8}(1.0) Gray{N0f8}(1.0); Gray{N0f8}(1.0) Gray{N0f8}(1.0) … Gray{N0f8}(1.0) Gray{N0f8}(1.0)]\n",
       " [Gray{N0f8}(1.0) Gray{N0f8}(1.0) … Gray{N0f8}(1.0) Gray{N0f8}(1.0); Gray{N0f8}(1.0) Gray{N0f8}(1.0) … Gray{N0f8}(1.0) Gray{N0f8}(1.0); … ; Gray{N0f8}(1.0) Gray{N0f8}(1.0) … Gray{N0f8}(1.0) Gray{N0f8}(1.0); Gray{N0f8}(1.0) Gray{N0f8}(1.0) … Gray{N0f8}(1.0) Gray{N0f8}(1.0)]\n",
       " [Gray{N0f8}(1.0) Gray{N0f8}(1.0) … Gray{N0f8}(1.0) Gray{N0f8}(1.0); Gray{N0f8}(1.0) Gray{N0f8}(1.0) … Gray{N0f8}(1.0) Gray{N0f8}(1.0); … ; Gray{N0f8}(1.0) Gray{N0f8}(1.0) … Gray{N0f8}(1.0) Gray{N0f8}(1.0); Gray{N0f8}(1.0) Gray{N0f8}(1.0) … Gray{N0f8}(1.0) Gray{N0f8}(1.0)]\n",
       " [Gray{N0f8}(1.0) Gray{N0f8}(1.0) … Gray{N0f8}(1.0) Gray{N0f8}(1.0); Gray{N0f8}(1.0) Gray{N0f8}(1.0) … Gray{N0f8}(1.0) Gray{N0f8}(1.0); … ; Gray{N0f8}(1.0) Gray{N0f8}(1.0) … Gray{N0f8}(1.0) Gray{N0f8}(1.0); Gray{N0f8}(1.0) Gray{N0f8}(1.0) … Gray{N0f8}(1.0) Gray{N0f8}(1.0)]"
      ]
     },
     "execution_count": 8,
     "metadata": {},
     "output_type": "execute_result"
    }
   ],
   "source": [
    "Gray(1).-imgs[500:505]"
   ]
  },
  {
   "cell_type": "code",
   "execution_count": 9,
   "metadata": {},
   "outputs": [
    {
     "name": "stdout",
     "output_type": "stream",
     "text": [
      "labels[500:505] = [8, 3, 9, 5, 8, 5]\n"
     ]
    }
   ],
   "source": [
    "@show labels[500:505];"
   ]
  },
  {
   "cell_type": "code",
   "execution_count": 10,
   "metadata": {},
   "outputs": [],
   "source": [
    "Y = onehotbatch(labels, 0:9); "
   ]
  },
  {
   "cell_type": "markdown",
   "metadata": {},
   "source": [
    "Applying `onehotbatch` to the labels"
   ]
  },
  {
   "cell_type": "code",
   "execution_count": 11,
   "metadata": {},
   "outputs": [
    {
     "name": "stdout",
     "output_type": "stream",
     "text": [
      "Before training\n",
      "accuracy(X, Y) = 0.07658333333333334\n",
      " 77.453917 seconds (16.79 M allocations: 48.955 GiB, 35.42% gc time)\n",
      "After training\n",
      "accuracy(X, Y) = 0.8979\n"
     ]
    }
   ],
   "source": [
    "m = Chain(\n",
    "  Dense(28^2, 32, relu),\n",
    "  Dense(32, 10),\n",
    "  softmax) \n",
    "\n",
    "loss(x, y) = crossentropy(m(x), y)\n",
    "\n",
    "accuracy(x, y) = mean(onecold(m(x)) .== onecold(y))\n",
    "\n",
    "println(\"Before training\")\n",
    "@show accuracy(X, Y)\n",
    "\n",
    "dataset = repeated((X, Y), 100)\n",
    "opt = ADAM(params(m))\n",
    "\n",
    "@time Flux.train!(loss, dataset, opt)\n",
    "\n",
    "println(\"After training\")\n",
    "@show accuracy(X, Y);"
   ]
  },
  {
   "cell_type": "code",
   "execution_count": 12,
   "metadata": {},
   "outputs": [
    {
     "name": "stdout",
     "output_type": "stream",
     "text": [
      "On the test set\n",
      "accuracy(tX, tY) = 0.9044\n"
     ]
    }
   ],
   "source": [
    "# Test set accuracy\n",
    "tX = hcat(float.(reshape.(MNIST.images(:test), :))...)\n",
    "tY = onehotbatch(MNIST.labels(:test), 0:9) \n",
    "\n",
    "println(\"On the test set\")\n",
    "@show accuracy(tX, tY);"
   ]
  },
  {
   "cell_type": "markdown",
   "metadata": {},
   "source": [
    "We really care here about the **accuracy** as measure of how good our model is. However, it is important to now that we used `crossentropy` for training. Why?"
   ]
  }
 ],
 "metadata": {
  "kernelspec": {
   "display_name": "Julia 1.0.1",
   "language": "julia",
   "name": "julia-1.0"
  },
  "language_info": {
   "file_extension": ".jl",
   "mimetype": "application/julia",
   "name": "julia",
   "version": "1.0.1"
  },
  "latex_envs": {
   "LaTeX_envs_menu_present": true,
   "autoclose": false,
   "autocomplete": true,
   "bibliofile": "biblio.bib",
   "cite_by": "apalike",
   "current_citInitial": 1,
   "eqLabelWithNumbers": true,
   "eqNumInitial": 1,
   "hotkeys": {
    "equation": "Ctrl-E",
    "itemize": "Ctrl-I"
   },
   "labels_anchors": false,
   "latex_user_defs": false,
   "report_style_numbering": false,
   "user_envs_cfg": false
  }
 },
 "nbformat": 4,
 "nbformat_minor": 2
}
